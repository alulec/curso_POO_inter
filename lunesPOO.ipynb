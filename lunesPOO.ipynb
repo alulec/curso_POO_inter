{
  "nbformat": 4,
  "nbformat_minor": 0,
  "metadata": {
    "colab": {
      "provenance": [],
      "authorship_tag": "ABX9TyN1pTeSNgDjut9sRDxY+mP9",
      "include_colab_link": true
    },
    "kernelspec": {
      "name": "python3",
      "display_name": "Python 3"
    },
    "language_info": {
      "name": "python"
    }
  },
  "cells": [
    {
      "cell_type": "markdown",
      "metadata": {
        "id": "view-in-github",
        "colab_type": "text"
      },
      "source": [
        "<a href=\"https://colab.research.google.com/github/alulec/curso_POO_inter/blob/main/lunesPOO.ipynb\" target=\"_parent\"><img src=\"https://colab.research.google.com/assets/colab-badge.svg\" alt=\"Open In Colab\"/></a>"
      ]
    },
    {
      "cell_type": "code",
      "execution_count": 1,
      "metadata": {
        "colab": {
          "base_uri": "https://localhost:8080/"
        },
        "id": "G87ww-1V2C_Y",
        "outputId": "d6a156b7-e011-44a0-feb1-e1b0cede4db2"
      },
      "outputs": [
        {
          "output_type": "stream",
          "name": "stdout",
          "text": [
            "HOla mundo !!!\n"
          ]
        }
      ],
      "source": [
        "# Esto es un comentario de una linea\n",
        "print(\"HOla mundo !!!\") # YO tambien soy un comentario"
      ]
    },
    {
      "cell_type": "code",
      "source": [
        "!ls -la\n",
        "!mkdir holaDesdeColab\n",
        "!cd holaDesdeColab"
      ],
      "metadata": {
        "colab": {
          "base_uri": "https://localhost:8080/"
        },
        "id": "Nwc7JQT46iXY",
        "outputId": "c0aa8b1f-12e2-4f21-f0a2-5a1a74e0a9f2"
      },
      "execution_count": 2,
      "outputs": [
        {
          "output_type": "stream",
          "name": "stdout",
          "text": [
            "total 16\n",
            "drwxr-xr-x 1 root root 4096 Jun  9 13:39 .\n",
            "drwxr-xr-x 1 root root 4096 Jun 12 22:03 ..\n",
            "drwxr-xr-x 4 root root 4096 Jun  9 13:38 .config\n",
            "drwxr-xr-x 1 root root 4096 Jun  9 13:39 sample_data\n"
          ]
        }
      ]
    },
    {
      "cell_type": "code",
      "source": [
        "print(\"Hola\", \"Mundo\")\n",
        " \n",
        "print(\"Hola\" + \"Mundo\")\n",
        " \n",
        "print(\"Hola\", \"Mundo\", sep=\"-\")  # Imprime: Hola-Mundo\n",
        " \n",
        "print(\"Hola\", end=\"\")\n",
        "print(\"Mundo\")  # Imprime: HolaMundo"
      ],
      "metadata": {
        "colab": {
          "base_uri": "https://localhost:8080/"
        },
        "id": "Q8-YsibE7yPk",
        "outputId": "0ec9285d-5be7-4a50-8551-b7001d0ce5a4"
      },
      "execution_count": 3,
      "outputs": [
        {
          "output_type": "stream",
          "name": "stdout",
          "text": [
            "Hola Mundo\n",
            "HolaMundo\n",
            "Hola-Mundo\n",
            "HolaMundo\n"
          ]
        }
      ]
    },
    {
      "cell_type": "code",
      "source": [
        "nombre = \"José\"\n",
        "carrera = \"ICO, la mejor\"\n",
        "print(\"Mi nombre es {1} y estudio {0} en la FES Aragón\".format(nombre, carrera))\n",
        " \n",
        " \n",
        "nombre = \"José\"\n",
        "carrera = \"ICO, la mejor\"\n",
        "print(f\"Mi nombre es { nombre} y estudio { carrera } en la FES Aragón\")"
      ],
      "metadata": {
        "colab": {
          "base_uri": "https://localhost:8080/"
        },
        "id": "HOd0BRBR7830",
        "outputId": "c9aff322-4419-4209-d356-5e86cc111d1d"
      },
      "execution_count": 4,
      "outputs": [
        {
          "output_type": "stream",
          "name": "stdout",
          "text": [
            "Mi nombre es ICO, la mejor y estudio José en la FES Aragón\n",
            "Mi nombre es José y estudio ICO, la mejor en la FES Aragón\n"
          ]
        }
      ]
    },
    {
      "cell_type": "code",
      "source": [
        "\"\"\"\n",
        "este es\n",
        "un \n",
        "comentario de\n",
        "múltiple línea\n",
        "\"\"\""
      ],
      "metadata": {
        "colab": {
          "base_uri": "https://localhost:8080/",
          "height": 35
        },
        "id": "V_E0_I1yov8P",
        "outputId": "d0cdadca-04fe-48ef-80d9-c799424a3c42"
      },
      "execution_count": 5,
      "outputs": [
        {
          "output_type": "execute_result",
          "data": {
            "text/plain": [
              "'\\neste es\\nun \\ncomentario de\\nmúltiple línea\\n'"
            ],
            "application/vnd.google.colaboratory.intrinsic+json": {
              "type": "string"
            }
          },
          "metadata": {},
          "execution_count": 5
        }
      ]
    },
    {
      "cell_type": "code",
      "source": [
        "# Operadores aritméticos\n",
        "suma = 5 + 3    # 8\n",
        "resta = 5 - 3   # 2\n",
        "producto = 5 * 3  # 15\n",
        "division = 5 / 3  # 1.66667\n",
        "division2 = 5 // 3 # 1\n",
        "modulo = 5 % 3   # 2\n",
        "potencia = 5 ** 3  # 125"
      ],
      "metadata": {
        "id": "14kDPDnBo0Lj"
      },
      "execution_count": 6,
      "outputs": []
    },
    {
      "cell_type": "code",
      "source": [
        "suma"
      ],
      "metadata": {
        "colab": {
          "base_uri": "https://localhost:8080/"
        },
        "id": "HznvWYevo9uI",
        "outputId": "d9cef23a-e513-4140-9ab8-4166a27b822e"
      },
      "execution_count": 7,
      "outputs": [
        {
          "output_type": "execute_result",
          "data": {
            "text/plain": [
              "8"
            ]
          },
          "metadata": {},
          "execution_count": 7
        }
      ]
    },
    {
      "cell_type": "code",
      "source": [
        "# Operadores de comparación\n",
        "igual = 5 == 3  # False\n",
        "diferente = 5 != 3  # True\n",
        "mayor_que = 5 > 3  # True\n",
        "menor_que = 5 < 3  # False\n",
        "mayor_o_igual_que = 5 >= 3  # True\n",
        "menor_o_igual_que = 5 <= 3  # False"
      ],
      "metadata": {
        "id": "xkv-TXGBo_xk"
      },
      "execution_count": 8,
      "outputs": []
    },
    {
      "cell_type": "code",
      "source": [
        "mayor_o_igual_que"
      ],
      "metadata": {
        "colab": {
          "base_uri": "https://localhost:8080/"
        },
        "id": "-JH-VTGnpJHp",
        "outputId": "e4f64af6-3c82-430a-a086-42083140cb4a"
      },
      "execution_count": 9,
      "outputs": [
        {
          "output_type": "execute_result",
          "data": {
            "text/plain": [
              "True"
            ]
          },
          "metadata": {},
          "execution_count": 9
        }
      ]
    },
    {
      "cell_type": "code",
      "source": [
        "# Operadores lógicos\n",
        "y = True and False  # False\n",
        "o = True or False  # True\n",
        "no = not True  # False"
      ],
      "metadata": {
        "id": "GDio_VAFpMXA"
      },
      "execution_count": 11,
      "outputs": []
    },
    {
      "cell_type": "code",
      "source": [
        "print(no)"
      ],
      "metadata": {
        "colab": {
          "base_uri": "https://localhost:8080/"
        },
        "id": "c-x3oJ7jpRz5",
        "outputId": "744569cc-f6c4-4d77-b29e-87c4b0485995"
      },
      "execution_count": 12,
      "outputs": [
        {
          "output_type": "stream",
          "name": "stdout",
          "text": [
            "False\n"
          ]
        }
      ]
    },
    {
      "cell_type": "code",
      "source": [
        "saludo = \"Hola Mundo\"\n",
        "cita = 'Los alumnos de ICO dicen: \"Hola Mundo\"'\n",
        "parrafo = \"\"\"Esto es un párrafo\n",
        "que abarca varias\n",
        "líneas\"\"\""
      ],
      "metadata": {
        "id": "_soMucvMpUKV"
      },
      "execution_count": 13,
      "outputs": []
    },
    {
      "cell_type": "code",
      "source": [
        "def fn_uno():\n",
        "    print(\"Hola\")\n",
        " \n",
        "a, b, c = 10, \"Hola\", [2.3, 3.4]\n",
        "print(a)\n",
        "print(b)\n",
        "print(c[1])"
      ],
      "metadata": {
        "colab": {
          "base_uri": "https://localhost:8080/"
        },
        "id": "9eYubAgwpalm",
        "outputId": "5545f154-d43e-4e66-cfea-d739359a44b2"
      },
      "execution_count": 14,
      "outputs": [
        {
          "output_type": "stream",
          "name": "stdout",
          "text": [
            "10\n",
            "Hola\n",
            "3.4\n"
          ]
        }
      ]
    },
    {
      "cell_type": "code",
      "source": [
        "d = fn_uno\n",
        "d.__call__()"
      ],
      "metadata": {
        "colab": {
          "base_uri": "https://localhost:8080/"
        },
        "id": "KneNhwgcpevk",
        "outputId": "311a3753-39b0-421c-9325-fa04d4253e43"
      },
      "execution_count": 17,
      "outputs": [
        {
          "output_type": "stream",
          "name": "stdout",
          "text": [
            "Hola\n"
          ]
        }
      ]
    },
    {
      "cell_type": "code",
      "source": [
        "# entrada por teclado\n",
        "nombre = input(\"Por favor, introduce tu nombre: \")\n",
        "print(f\"Hola {nombre}!\")\n",
        " \n",
        "edad = int(input(\"Introduce tu edad:\"))\n",
        "print(f\"{nombre} tiene {edad} años\")"
      ],
      "metadata": {
        "colab": {
          "base_uri": "https://localhost:8080/"
        },
        "id": "BvkoxcOepyYn",
        "outputId": "228e0073-12de-42c4-ffef-502b8292e230"
      },
      "execution_count": 18,
      "outputs": [
        {
          "output_type": "stream",
          "name": "stdout",
          "text": [
            "Por favor, introduce tu nombre: alexis\n",
            "Hola alexis!\n",
            "Introduce tu edad:23\n",
            "alexis tiene 23 años\n"
          ]
        }
      ]
    },
    {
      "cell_type": "code",
      "source": [
        "mensaje = \"Hola Mundo\"  # String\n",
        "edad = 20               # Integer\n",
        "pi = 3.14159            # Float\n",
        "es_mayor = True         # Boolean\n",
        "imaginario = 3 + 4j     # Imaginario"
      ],
      "metadata": {
        "id": "HiAaWeTKp_GU"
      },
      "execution_count": 19,
      "outputs": []
    },
    {
      "cell_type": "code",
      "source": [
        "imaginario * 2"
      ],
      "metadata": {
        "colab": {
          "base_uri": "https://localhost:8080/"
        },
        "id": "M8-iOoV9p_Ct",
        "outputId": "6c1453d0-e66c-4fe1-89f1-d27f9ed32ec8"
      },
      "execution_count": 20,
      "outputs": [
        {
          "output_type": "execute_result",
          "data": {
            "text/plain": [
              "(6+8j)"
            ]
          },
          "metadata": {},
          "execution_count": 20
        }
      ]
    },
    {
      "cell_type": "code",
      "source": [
        "frutas = [\"pera\", \"fresas\", \"sandia\"]\n",
        "print(frutas[0])"
      ],
      "metadata": {
        "colab": {
          "base_uri": "https://localhost:8080/"
        },
        "id": "JM0_0s4HqwPZ",
        "outputId": "a2f62a90-a367-4973-cca9-7fadcdad6cfd"
      },
      "execution_count": 21,
      "outputs": [
        {
          "output_type": "stream",
          "name": "stdout",
          "text": [
            "pera\n"
          ]
        }
      ]
    },
    {
      "cell_type": "code",
      "source": [
        "cosas = [\"hola\", 3.14159, 23, [\"uno\", \"dos\", \"tres\"], True, 3 + 4j]\n",
        "print(cosas)"
      ],
      "metadata": {
        "colab": {
          "base_uri": "https://localhost:8080/"
        },
        "id": "VkxgivnZrmJ1",
        "outputId": "2f809eee-f206-4d4b-a08b-cd62198d3023"
      },
      "execution_count": 22,
      "outputs": [
        {
          "output_type": "stream",
          "name": "stdout",
          "text": [
            "['hola', 3.14159, 23, ['uno', 'dos', 'tres'], True, (3+4j)]\n"
          ]
        }
      ]
    },
    {
      "cell_type": "markdown",
      "source": [
        "#Slicing\n",
        "[inicio : fin: step]\n",
        "\n",
        "Es la posibilidad de obtenr rebanadas a partir de un tipo de datos lista o tupla, en general de un iterable. Un dato de tipo string es un iterable.\n",
        "\n",
        "Por defecto:\n",
        "inicio = 0\n",
        "step = 1\n",
        "stop = es igual al tamaño de la variable"
      ],
      "metadata": {
        "id": "UxOQYZzG2KV7"
      }
    },
    {
      "cell_type": "code",
      "source": [
        "cadena = [1, 2, 3, 4, 5, 6, \"a\", \"b\", \"c\", \"d\", \"e\"]\n",
        "print(cadena[2:6:1])"
      ],
      "metadata": {
        "colab": {
          "base_uri": "https://localhost:8080/"
        },
        "id": "wwjG8Jzy26KY",
        "outputId": "103fca39-5114-4ec2-8092-bad8b99fbc95"
      },
      "execution_count": 23,
      "outputs": [
        {
          "output_type": "stream",
          "name": "stdout",
          "text": [
            "[3, 4, 5, 6]\n"
          ]
        }
      ]
    },
    {
      "cell_type": "code",
      "source": [
        "frutas_dos = \"mango\", \"manzana\", \"durazno\",\n",
        "\n",
        "print(frutas)\n",
        "print(frutas_dos)"
      ],
      "metadata": {
        "colab": {
          "base_uri": "https://localhost:8080/"
        },
        "id": "wC4xW9dA5ub_",
        "outputId": "8c111023-fde0-40fb-bd3f-866f2c6ddb6f"
      },
      "execution_count": 24,
      "outputs": [
        {
          "output_type": "stream",
          "name": "stdout",
          "text": [
            "['pera', 'fresas', 'sandia']\n",
            "('mango', 'manzana', 'durazno')\n"
          ]
        }
      ]
    },
    {
      "cell_type": "markdown",
      "source": [
        "#Diccionarios teoria\n",
        "\n",
        "1. Es un conjunto de llaves valor.\n",
        "1. Agrupados por \":\".\n",
        "1. La llave es simpre string.\n",
        "1. El valor puede ser de cualquier tipo.\n",
        "1. El selector es de la forma [\"llave\"]\n",
        "1. Es mutable.\n",
        "1. Se declara entre los caracteres \"{\" y \"}\"\n",
        "1. Los paares se separan por \",\".\n"
      ],
      "metadata": {
        "id": "mND0Puxs8K9G"
      }
    },
    {
      "cell_type": "code",
      "source": [
        "alumno = {\"cuenta\": 3124356, \"carrera\":\"ico\", \"direccion\":{\"municipio\":\"neza\", \"calle\": \"del tulipan\", \"numero\":4}}\n",
        "print(alumno)\n",
        "print(alumno[\"carrera\"])\n",
        "print(alumno[\"direccion\"])\n",
        "print(alumno[\"direccion\"][\"calle\"])"
      ],
      "metadata": {
        "colab": {
          "base_uri": "https://localhost:8080/"
        },
        "id": "sCbLSOp66vTG",
        "outputId": "21119abe-1ae1-42a8-b3a7-b4e8a660f7e0"
      },
      "execution_count": 25,
      "outputs": [
        {
          "output_type": "stream",
          "name": "stdout",
          "text": [
            "{'cuenta': 3124356, 'carrera': 'ico', 'direccion': {'municipio': 'neza', 'calle': 'del tulipan', 'numero': 4}}\n",
            "ico\n",
            "{'municipio': 'neza', 'calle': 'del tulipan', 'numero': 4}\n",
            "del tulipan\n"
          ]
        }
      ]
    }
  ]
}